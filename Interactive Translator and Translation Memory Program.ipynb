{
 "cells": [
  {
   "cell_type": "markdown",
   "metadata": {},
   "source": [
    "### An Interactive Translator and TM Program"
   ]
  },
  {
   "cell_type": "code",
   "execution_count": 467,
   "metadata": {},
   "outputs": [
    {
     "name": "stdout",
     "output_type": "stream",
     "text": [
      "Libraries downloaded!\n"
     ]
    }
   ],
   "source": [
    "#!pip install google_trans_new\n",
    "from google_trans_new import google_translator  \n",
    "print('Libraries downloaded!')"
   ]
  },
  {
   "cell_type": "code",
   "execution_count": 468,
   "metadata": {},
   "outputs": [
    {
     "name": "stdout",
     "output_type": "stream",
     "text": [
      "Press 'y' to enter a phrase or 'n' to exit: y\n",
      "Enter a phrase to translate: שלום\n",
      "\n",
      "Source:  שלום\n",
      "Translation:  Peace \n",
      "Replace the translated phrase or press \"n\" to continue: n\n",
      "Press 'y' to enter another phrase or 'n' to exit: n\n",
      "Exiting\n"
     ]
    }
   ],
   "source": [
    "dictionary = {} \n",
    "query = input(\"Press 'y' to enter a phrase or 'n' to exit: \")\n",
    "while query != 'n':\n",
    "    if query != 'y':\n",
    "        query = input(\"Invalid input. Press 'y' to enter a phrase or 'n' to exit: \")     \n",
    "    while query == 'y':\n",
    "        source = input(\"Enter a phrase to translate: \")\n",
    "        print('\\nSource: ', source)\n",
    "        translator = google_translator()  \n",
    "        output = translator.translate(source,lang_tgt='en')  \n",
    "        print('Translation: ',output)\n",
    "        edit = input('Replace the translated phrase or press \"n\" to continue: ')\n",
    "        if edit == 'n':\n",
    "            dictionary.update({source:output})\n",
    "        else:\n",
    "            dictionary.update({source:edit})\n",
    "        query = input(\"Press 'y' to enter another phrase or 'n' to exit: \")\n",
    "        while query != 'n':\n",
    "            if query == 'y':\n",
    "                break\n",
    "            else:\n",
    "                query = input(\"Invalid input. Press 'y' to enter another phrase or 'n' to exit: \")   \n",
    "\n",
    "print('Exiting')"
   ]
  },
  {
   "cell_type": "code",
   "execution_count": null,
   "metadata": {},
   "outputs": [],
   "source": []
  }
 ],
 "metadata": {
  "kernelspec": {
   "display_name": "Python 3",
   "language": "python",
   "name": "python3"
  },
  "language_info": {
   "codemirror_mode": {
    "name": "ipython",
    "version": 3
   },
   "file_extension": ".py",
   "mimetype": "text/x-python",
   "name": "python",
   "nbconvert_exporter": "python",
   "pygments_lexer": "ipython3",
   "version": "3.8.5"
  }
 },
 "nbformat": 4,
 "nbformat_minor": 4
}
